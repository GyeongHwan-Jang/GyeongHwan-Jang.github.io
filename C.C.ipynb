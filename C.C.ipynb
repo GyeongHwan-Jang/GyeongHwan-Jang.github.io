{
 "cells": [
  {
   "cell_type": "markdown",
   "metadata": {},
   "source": [
    "# 1-D perclolation simulation"
   ]
  },
  {
   "cell_type": "code",
   "execution_count": 2,
   "metadata": {},
   "outputs": [],
   "source": [
    "import numpy as np\n",
    "from tqdm.notebook import tqdm\n",
    "import matplotlib.pyplot as plt\n",
    "import seaborn as sb"
   ]
  },
  {
   "cell_type": "code",
   "execution_count": 5,
   "metadata": {},
   "outputs": [],
   "source": [
    "L, T = 2000, 10000 ## latice num, simul time\n",
    "s = 3 ## cluster size\n",
    "p = 0.5 ## occupied probabiliy"
   ]
  },
  {
   "cell_type": "code",
   "execution_count": 7,
   "metadata": {},
   "outputs": [
    {
     "data": {
      "application/vnd.jupyter.widget-view+json": {
       "model_id": "d31f6aa1d628485199a2b8bbe17b004c",
       "version_major": 2,
       "version_minor": 0
      },
      "text/plain": [
       "HBox(children=(IntProgress(value=0, max=10000), HTML(value='')))"
      ]
     },
     "metadata": {},
     "output_type": "display_data"
    },
    {
     "name": "stdout",
     "output_type": "stream",
     "text": [
      "\n"
     ]
    }
   ],
   "source": [
    "aver_list = []\n",
    "\n",
    "for j in tqdm(range(T)):\n",
    "    site = \"\"\n",
    "    aver =0\n",
    "    count = 0\n",
    "    for i in range(L):\n",
    "        if np.random.random() < p:\n",
    "            site += \"1\"\n",
    "        else :\n",
    "            site += \" \"\n",
    "    site_split = site.split()\n",
    "    cluster = [len(w) for w in site_split]\n",
    "    \n",
    "    for i in range(len(cluster)):\n",
    "        if cluster[i] == s:\n",
    "            aver += 1        \n",
    "    aver_list.append(aver*s/L)"
   ]
  },
  {
   "cell_type": "code",
   "execution_count": 33,
   "metadata": {},
   "outputs": [],
   "source": [
    "aver_list = np.array(aver_list)"
   ]
  },
  {
   "cell_type": "code",
   "execution_count": 34,
   "metadata": {},
   "outputs": [
    {
     "data": {
      "text/plain": [
       "(array([  1.,   1.,   0.,   2.,   0.,   0.,   0.,   5.,   0.,  13.,   0.,\n",
       "         14.,  14.,   0.,  28.,   0.,  45.,   0.,  40.,   0.,  77.,   0.,\n",
       "         94.,   0., 123., 155.,   0., 202.,   0., 241.,   0., 270.,   0.,\n",
       "        355.,   0., 342.,   0., 424., 440.,   0., 482.,   0., 508.,   0.,\n",
       "        528.,   0., 572.,   0., 566.,   0., 545., 537.,   0., 489.,   0.,\n",
       "        446.,   0., 376.,   0., 361.,   0., 318., 292.,   0., 221.,   0.,\n",
       "        201.,   0., 153.,   0., 135.,   0.,  97.,   0.,  66.,  48.,   0.,\n",
       "         42.,   0.,  36.,   0.,  31.,   0.,  23.,   0.,  14.,   0.,  11.,\n",
       "          5.,   0.,   3.,   0.,   1.,   0.,   3.,   0.,   1.,   0.,   0.,\n",
       "          3.]),\n",
       " array([0.0555 , 0.05631, 0.05712, 0.05793, 0.05874, 0.05955, 0.06036,\n",
       "        0.06117, 0.06198, 0.06279, 0.0636 , 0.06441, 0.06522, 0.06603,\n",
       "        0.06684, 0.06765, 0.06846, 0.06927, 0.07008, 0.07089, 0.0717 ,\n",
       "        0.07251, 0.07332, 0.07413, 0.07494, 0.07575, 0.07656, 0.07737,\n",
       "        0.07818, 0.07899, 0.0798 , 0.08061, 0.08142, 0.08223, 0.08304,\n",
       "        0.08385, 0.08466, 0.08547, 0.08628, 0.08709, 0.0879 , 0.08871,\n",
       "        0.08952, 0.09033, 0.09114, 0.09195, 0.09276, 0.09357, 0.09438,\n",
       "        0.09519, 0.096  , 0.09681, 0.09762, 0.09843, 0.09924, 0.10005,\n",
       "        0.10086, 0.10167, 0.10248, 0.10329, 0.1041 , 0.10491, 0.10572,\n",
       "        0.10653, 0.10734, 0.10815, 0.10896, 0.10977, 0.11058, 0.11139,\n",
       "        0.1122 , 0.11301, 0.11382, 0.11463, 0.11544, 0.11625, 0.11706,\n",
       "        0.11787, 0.11868, 0.11949, 0.1203 , 0.12111, 0.12192, 0.12273,\n",
       "        0.12354, 0.12435, 0.12516, 0.12597, 0.12678, 0.12759, 0.1284 ,\n",
       "        0.12921, 0.13002, 0.13083, 0.13164, 0.13245, 0.13326, 0.13407,\n",
       "        0.13488, 0.13569, 0.1365 ]),\n",
       " <a list of 100 Patch objects>)"
      ]
     },
     "execution_count": 34,
     "metadata": {},
     "output_type": "execute_result"
    },
    {
     "data": {
      "image/png": "[encoded data removed]",
      "text/plain": [
       "<Figure size 432x288 with 1 Axes>"
      ]
     },
     "metadata": {
      "needs_background": "light"
     },
     "output_type": "display_data"
    }
   ],
   "source": [
    "plt.hist(aver_list, bins = 100)"
   ]
  },
  {
   "cell_type": "code",
   "execution_count": 37,
   "metadata": {},
   "outputs": [
    {
     "name": "stdout",
     "output_type": "stream",
     "text": [
      "0.0938814\n",
      "62.5876\n",
      "0.0312938\n"
     ]
    }
   ],
   "source": [
    "print(np.average(aver_list))\n",
    "print(np.average(aver_list*(L/s)))\n",
    "print(np.average(aver_list/s))"
   ]
  },
  {
   "cell_type": "code",
   "execution_count": 36,
   "metadata": {},
   "outputs": [
    {
     "name": "stdout",
     "output_type": "stream",
     "text": [
      "0.09375\n",
      "62.5\n",
      "0.03125\n"
     ]
    }
   ],
   "source": [
    "print(s*((1-p)**2)*(p**s)) ## probability\n",
    "print(L*((1-p)**2)*(p**s)) ## frequency\n",
    "print(((1-p)**2)*(p**s)) ## cluster number density"
   ]
  },
  {
   "cell_type": "markdown",
   "metadata": {},
   "source": [
    "# 2-D percolation simulation"
   ]
  },
  {
   "cell_type": "code",
   "execution_count": 1,
   "metadata": {},
   "outputs": [
    {
     "name": "stderr",
     "output_type": "stream",
     "text": [
      "/root/.pyenv/versions/3.7.4/lib/python3.7/site-packages/pandas/compat/__init__.py:85: UserWarning: Could not import the lzma module. Your installed Python is incomplete. Attempting to use lzma compression will result in a RuntimeError.\n",
      "  warnings.warn(msg)\n"
     ]
    }
   ],
   "source": [
    "import numpy as np\n",
    "from tqdm.notebook import tqdm\n",
    "import matplotlib.pyplot as plt\n",
    "import seaborn as sb"
   ]
  },
  {
   "cell_type": "code",
   "execution_count": 2,
   "metadata": {},
   "outputs": [],
   "source": [
    "## make same labeling of lattice when above and left lattice is occupied\n",
    "def union(x, y ,label_ ,change_):\n",
    "    for a in range(x):\n",
    "            for b in range(L):\n",
    "                if (labeled_lattice[b][a] == change_):\n",
    "                    labeled_lattice[b][a] = label_\n",
    "    labeled_lattice[y][x] = label_"
   ]
  },
  {
   "cell_type": "code",
   "execution_count": 3,
   "metadata": {},
   "outputs": [],
   "source": [
    "def make_lattice(L,p):    \n",
    "    lattice_temp = np.zeros((L,L))\n",
    "    for i in range(L):\n",
    "        for j in range(L):\n",
    "            if p > np.random.random():\n",
    "                lattice_temp[j][i] = 1\n",
    "\n",
    "## make outside zero to avoid out or range in for sentence\n",
    "    for i in range(L):\n",
    "        for j in range(L):\n",
    "            lattice_temp[0][i] = 0\n",
    "            lattice_temp[j][0] = 0\n",
    "    return lattice_temp"
   ]
  },
  {
   "cell_type": "code",
   "execution_count": 4,
   "metadata": {},
   "outputs": [],
   "source": [
    "## labeling lattice with cluster\n",
    "def labelling(lattice, L):\n",
    "    labeled_lattice = np.zeros((L,L))\n",
    "    label = 0\n",
    "    for i in range(1,L):\n",
    "        for j in range(1,L):\n",
    "            if lattice[j][i] == 1:\n",
    "                if (lattice[j-1][i] != 1) and (lattice[j][i-1] != 1):\n",
    "                    label += 1\n",
    "                    labeled_lattice[j][i] = label\n",
    "                elif (lattice[j-1][i] == 1) and (lattice[j][i-1] != 1):\n",
    "                    labeled_lattice[j][i] = labeled_lattice[j-1][i]\n",
    "                elif (lattice[j-1][i] != 1) and (lattice[j][i-1] == 1):\n",
    "                    labeled_lattice[j][i] = labeled_lattice[j][i-1]\n",
    "                elif (lattice[j-1][i] == 1) and (lattice[j][i-1] == 1):\n",
    "                    if (lattice[j-1][i] > lattice[j][i-1]):\n",
    "                        union(i,j,labeled_lattice[j][i-1],labeled_lattice[j-1][i])\n",
    "                    else :\n",
    "                        union(i,j,labeled_lattice[j-1][i],labeled_lattice[j][i-1])\n",
    "    return labeled_lattice"
   ]
  },
  {
   "cell_type": "code",
   "execution_count": 5,
   "metadata": {},
   "outputs": [],
   "source": [
    "def show_clustersize(lattice,labeled_lattice):\n",
    "    cluster_size_array = np.zeros(int(np.max(labeled_lattice)))\n",
    "    for i in range(1,L):\n",
    "        for j in range(1,L):\n",
    "            if labeled_lattice[j][i] != 0:\n",
    "                a = int(labeled_lattice[j][i] - 1)\n",
    "                cluster_size_array[a] += 1\n",
    "    if (len(cluster_size_array) != 0):\n",
    "        return np.max(cluster_size_array)\n",
    "    else :\n",
    "        return 0"
   ]
  },
  {
   "cell_type": "code",
   "execution_count": 13,
   "metadata": {},
   "outputs": [],
   "source": [
    "## lattice size(out side lattice that i make +1 is trick to avoid index problem in for sentence) \\\n",
    "## simul time step for changing p, simul time step for same p\n",
    "L, T1, T2 = 50+1, 100, 100 \n",
    "p_start = 1e-2 ## start probability of occuping lattice"
   ]
  },
  {
   "cell_type": "code",
   "execution_count": null,
   "metadata": {},
   "outputs": [
    {
     "data": {
      "application/vnd.jupyter.widget-view+json": {
       "model_id": "6e5f62f88ee54114bc93f4821e300b3d",
       "version_major": 2,
       "version_minor": 0
      },
      "text/plain": [
       "HBox(children=(IntProgress(value=0), HTML(value='')))"
      ]
     },
     "metadata": {},
     "output_type": "display_data"
    }
   ],
   "source": [
    "i = 0\n",
    "cluster_size_50 = np.zeros(T1)\n",
    "for p in tqdm(np.linspace(p_start,1,T1)):\n",
    "    cluster_size_aver = 0\n",
    "    for j in range(T2):\n",
    "        lattice = make_lattice(L,p)\n",
    "        labeled_lattice = labelling(lattice, L)\n",
    "        cluster_size_aver += show_clustersize(lattice,labeled_lattice)\n",
    "    cluster_size_aver = cluster_size_aver/T2\n",
    "    cluster_size_50[i] = cluster_size_aver\n",
    "    i += 1"
   ]
  },
  {
   "cell_type": "code",
   "execution_count": 10,
   "metadata": {},
   "outputs": [
    {
     "data": {
      "text/plain": [
       "array([ 0.63,  0.95,  1.12,  1.2 ,  1.4 ,  1.57,  1.58,  1.73,  1.92,\n",
       "        2.06,  2.17,  2.31,  2.48,  2.58,  2.78,  2.97,  2.99,  2.99,\n",
       "        3.14,  3.42,  3.39,  3.49,  3.57,  3.89,  3.82,  4.29,  4.42,\n",
       "        4.61,  4.51,  4.47,  4.87,  4.89,  5.25,  4.83,  5.1 ,  5.28,\n",
       "        5.49,  5.38,  5.56,  5.39,  5.85,  5.57,  5.71,  5.89,  5.88,\n",
       "        5.85,  6.  ,  6.59,  6.26,  6.29,  5.8 ,  6.88,  6.54,  6.65,\n",
       "        7.  ,  7.16,  7.43,  7.28,  7.22,  7.54,  7.35,  7.86,  7.46,\n",
       "        7.35,  7.98,  8.37,  7.83,  8.43,  8.23,  8.82,  8.8 ,  9.05,\n",
       "        8.91,  8.98,  9.26,  8.44,  9.45,  9.7 ,  9.66, 10.41,  9.88,\n",
       "       10.7 , 10.82, 10.79, 10.86, 11.99, 12.51, 12.7 , 12.82, 13.83,\n",
       "       13.52, 13.73, 14.14, 14.47, 15.15, 15.48, 16.99, 17.19, 18.48,\n",
       "       19.  ])"
      ]
     },
     "execution_count": 10,
     "metadata": {},
     "output_type": "execute_result"
    }
   ],
   "source": [
    "cluster_size_10"
   ]
  },
  {
   "cell_type": "code",
   "execution_count": 12,
   "metadata": {},
   "outputs": [
    {
     "data": {
      "image/png": "[encoded data removed]",
      "text/plain": [
       "<Figure size 720x720 with 1 Axes>"
      ]
     },
     "metadata": {
      "needs_background": "light"
     },
     "output_type": "display_data"
    }
   ],
   "source": [
    "fig, axes = plt.subplots(figsize = (10,10))\n",
    "axes.set_title(\"Cluster size\", size = 20)\n",
    "axes.set_xlabel(\"probability\", size = 10)\n",
    "axes.set_ylabel(\"Cluster size\", size = 10)\n",
    "axes = plt.plot(np.linspace(p_start,1,T1), cluster_size_10)"
   ]
  },
  {
   "cell_type": "code",
   "execution_count": null,
   "metadata": {},
   "outputs": [],
   "source": [
    "## ploting labeling lattice and lattice when p = 0.5\n",
    "fig, axes = plt.subplots(1,2,figsize = (20,10))\n",
    "axes[0].set_xlim([0.5,20.5])\n",
    "axes[0].set_ylim([0.5,20.5])\n",
    "axes[1].set_xlim([0.5,20.5])\n",
    "axes[1].set_ylim([0.5,20.5])\n",
    "axes[0].imshow(labeled_lattice[500], cmap=\"PuBu\")\n",
    "axes[1].imshow(lattice[500], cmap=\"binary\")"
   ]
  },
  {
   "cell_type": "code",
   "execution_count": null,
   "metadata": {},
   "outputs": [],
   "source": []
  }
 ],
 "metadata": {
  "kernelspec": {
   "display_name": "Python 3",
   "language": "python",
   "name": "python3"
  },
  "language_info": {
   "codemirror_mode": {
    "name": "ipython",
    "version": 3
   },
   "file_extension": ".py",
   "mimetype": "text/x-python",
   "name": "python",
   "nbconvert_exporter": "python",
   "pygments_lexer": "ipython3",
   "version": "3.7.4"
  }
 },
 "nbformat": 4,
 "nbformat_minor": 2
}
